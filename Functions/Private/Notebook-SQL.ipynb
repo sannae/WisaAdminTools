{
    "metadata": {
        "kernelspec": {
            "name": "SQL",
            "display_name": "SQL",
            "language": "sql"
        },
        "language_info": {
            "name": "sql",
            "version": ""
        }
    },
    "nbformat_minor": 2,
    "nbformat": 4,
    "cells": [
        {
            "cell_type": "markdown",
            "source": [
                "## Create login as sysadmin\r\n",
                "The following snippet activates the mixed mode authentication and creates the sysadmin login"
            ],
            "metadata": {
                "azdata_cell_guid": "ea95cc71-b0ab-49a1-8160-785e13a2ba7c"
            }
        },
        {
            "cell_type": "code",
            "source": [
                "\n",
                "USE [master]\r\n",
                "GO\r\n",
                "/* [Note: 2 indicates mixed mode authentication. 1 is for windows only authentication] */\r\n",
                "EXEC xp_instance_regwrite N'HKEY_LOCAL_MACHINE', \r\n",
                "     N'Software\\Microsoft\\MSSQLServer\\MSSQLServer',\r\n",
                "     N'LoginMode', REG_DWORD, 2\r\n",
                "GO\r\n",
                "/* Restart SQL Server engine */\n",
                "-- TODO: translate in PowerShell"
            ],
            "metadata": {
                "azdata_cell_guid": "81917c55-65f7-49e9-a629-a8803b65d411"
            },
            "outputs": [],
            "execution_count": null
        },
        {
            "cell_type": "code",
            "source": [
                "USE MRT_NEW\r\n",
                "/* Creates new login */\r\n",
                "CREATE LOGIN testsysadmin WITH PASSWORD = 'ABCDegf123';\r\n",
                "GO\r\n",
                "/* Assigns the sysadmin server role */\r\n",
                "EXEC master..sp_addsrvrolemember @loginame = N'testsysadmin', @rolename = N'sysadmin'\r\n",
                "GO"
            ],
            "metadata": {
                "azdata_cell_guid": "ce9e74b6-1c27-4328-83aa-34387d7b94d2"
            },
            "outputs": [],
            "execution_count": null
        },
        {
            "cell_type": "markdown",
            "source": [
                "## Perform manual backup\r\n",
                "https://docs.microsoft.com/it-it/sql/relational-databases/backup-restore/create-a-full-database-backup-sql-server?view=sql-server-ver15\r\n",
                "\r\n",
                "This requires the roles _sysadmin_, _db_owner_ or _db_backupoperator_. \r\n",
                "The backup file is automatically named \"[DATABASE_NAME]-[DBVER]_[yyyyMMdd_HHmm].bak\"."
            ],
            "metadata": {
                "azdata_cell_guid": "d7a28cd4-4b9a-420b-85fe-34dcadec08b2"
            }
        },
        {
            "cell_type": "code",
            "source": [
                "USE MRT_NEW\r\n",
                "\r\n",
                "/* Variables */\r\n",
                "DECLARE @VERSION NVARCHAR(255); SELECT @VERSION = CONCAT(SUBSTRING(T05VALORE,1,1),SUBSTRING(T05VALORE,3,2)) FROM T05COMFLAGS WHERE T05TIPO = 'DBVER'\r\n",
                "DECLARE @FILENAME NVARCHAR(255); SET @FILENAME = DB_NAME() + '-' + @VERSION +'_' + FORMAT(GETDATE(),'yyyyMMdd_hhmm') + '.bak'\r\n",
                "DECLARE @FULLPATH NVARCHAR(255); SET @FULLPATH = \"C:\\MPW\\\" + @FILENAME\r\n",
                "\r\n",
                "/* Backup database MRT */\r\n",
                "BACKUP DATABASE MRT_NEW\r\n",
                "TO DISK = @FULLPATH\r\n",
                "   WITH FORMAT,\r\n",
                "      MEDIANAME = 'SQLServerBackups',\r\n",
                "      NAME = 'Full Backup of MRT';\r\n",
                "GO\r\n",
                ""
            ],
            "metadata": {
                "azdata_cell_guid": "d29a7659-4243-4781-b367-d669d0413dfa",
                "tags": []
            },
            "outputs": [
                {
                    "output_type": "display_data",
                    "data": {
                        "text/html": "Processed 912 pages for database 'MRT_NEW', file 'MRT_NEW' on file 1."
                    },
                    "metadata": {}
                },
                {
                    "output_type": "display_data",
                    "data": {
                        "text/html": "Processed 2 pages for database 'MRT_NEW', file 'MRT_NEW_log' on file 1."
                    },
                    "metadata": {}
                },
                {
                    "output_type": "display_data",
                    "data": {
                        "text/html": "BACKUP DATABASE successfully processed 914 pages in 0.087 seconds (82.076 MB/sec)."
                    },
                    "metadata": {}
                },
                {
                    "output_type": "display_data",
                    "data": {
                        "text/html": "Total execution time: 00:00:00.131"
                    },
                    "metadata": {}
                }
            ],
            "execution_count": 8
        },
        {
            "cell_type": "markdown",
            "source": [
                "## Perform manual restore\r\n",
                "https://docs.microsoft.com/it-it/sql/t-sql/statements/restore-statements-transact-sql?view=sql-server-ver15\r\n",
                "\r\n",
                "This requires the roles _sysadmin_, _db_owner_ or _db_backupoperator_. "
            ],
            "metadata": {
                "azdata_cell_guid": "dcc0f030-1325-478a-a182-f03f90a76c5d"
            }
        },
        {
            "cell_type": "code",
            "source": [
                "USE MRT_NEW\r\n",
                "\r\n",
                "/* Variables */\r\n",
                "DECLARE @FULLPATH NVARCHAR(255)\r\n",
                "SET @FULLPATH = 'C:\\MPW\\MRT*.bak'\r\n",
                "DECLARE @RESTOREDDBNAME NVARCHAR(60)\r\n",
                "SET @RESTOREDDBNAME = 'MRT_RESTORED'\r\n",
                "\r\n",
                "/* Instructions */\r\n",
                "RESTORE DATABASE @RESTOREDDBNAME\r\n",
                "FROM DISK = @FULLPATH\r\n",
                "WITH  FILE = 1, \r\n",
                "NOUNLOAD,  \r\n",
                "STATS = 5\r\n",
                "\r\n",
                "GO"
            ],
            "metadata": {
                "azdata_cell_guid": "0e4038c4-cba6-4831-adaf-7da015a97822",
                "tags": []
            },
            "outputs": [],
            "execution_count": null
        },
        {
            "cell_type": "markdown",
            "source": [
                "## Query di stato impianto\r\n",
                "Alcune query per avere una panoramica dell'impianto"
            ],
            "metadata": {
                "azdata_cell_guid": "26492f57-a6d5-4b98-895d-cf1bcbd2e75d"
            }
        },
        {
            "cell_type": "code",
            "source": [
                "USE MRT_NEW\r\n",
                "\r\n",
                "-- Versione installata\r\n",
                "SELECT T05VALORE AS [Versione installata] FROM T05COMFLAGS WHERE T05TIPO='DBVER'\r\n",
                "\r\n",
                "-- Servizi btService con rispettiva GNetPath\r\n",
                "SELECT T03CODICE AS Codice, T03DESCRIZIONE AS Descrizione, \r\n",
                "CASE T03CONFIGGN WHEN '' THEN 'KARM' ELSE T03CONFIGGN END AS [GNet Path] FROM T03COMSERVICES\r\n",
                "\r\n",
                "-- Famiglie di firmware presenti sul campo\r\n",
                "SELECT T22GNTYPE AS [Versione Firmware],COUNT(T22CODICE) AS [Terminali base attivi] FROM T22ACCTERMINALI WHERE T22KK='0' AND T22ABILITATO='1' GROUP BY T22GNTYPE\r\n",
                "\r\n",
                "-- Terminali base attivi\r\n",
                "SELECT T22CODICE AS Codice, T22DESCRIZIONE AS Descrizione, T22GNTYPE AS [Firmware], T22GNNUN AS RamoNodo, T22GNIP AS IndirizzoIP FROM T22ACCTERMINALI WHERE T22KK='0' AND T22ABILITATO='1'\r\n",
                "\r\n",
                ""
            ],
            "metadata": {
                "azdata_cell_guid": "cec94ea2-38d2-4d76-9912-9554179b9c07"
            },
            "outputs": [],
            "execution_count": null
        },
        {
            "cell_type": "markdown",
            "source": [
                "## Query su HOTLINE\r\n",
                "Inserire il cliente nella variabile @MioCliente ed eventualmente il tecnico nella variabile @Tecnico"
            ],
            "metadata": {
                "azdata_cell_guid": "585ef358-ed52-47b5-9b07-13ce4b06f54f"
            }
        },
        {
            "cell_type": "code",
            "source": [
                "/* Query su HOTLINE */\r\n",
                "\r\n",
                "USE ASSISTENZA\r\n",
                "-- Variabile\r\n",
                "DECLARE @MioCliente NVARCHAR(MAX) \r\n",
                "SET @MioCliente = '%NORD MILANO%'\r\n",
                "\r\n",
                "-- Chiamate per cliente\r\n",
                "SELECT \r\n",
                "    ORA AS [DATA ORA],\r\n",
                "    CLIENTE AS CLIENTE,\r\n",
                "    CONCAT(DESCR_TH,' ', note_hotline) AS DESCRIZIONE,\r\n",
                "    DURATA_th AS DURATA,\r\n",
                "    TECNICO_HOT AS TECNICO\r\n",
                "FROM t_INTERVENTI\r\n",
                "WHERE Cliente like @MioCliente\r\n",
                "AND TECNICO_HOT like '%SANNA%'\r\n",
                "AND DURATA_TH IS NOT NULL\r\n",
                "ORDER BY DATA DESC"
            ],
            "metadata": {
                "azdata_cell_guid": "7bfb4535-1b83-404c-9cdc-7748d834c788"
            },
            "outputs": [],
            "execution_count": null
        }
    ]
}